{
 "cells": [
  {
   "cell_type": "code",
   "execution_count": 5,
   "metadata": {},
   "outputs": [],
   "source": [
    "from langchain_community.document_loaders import PyPDFLoader\n",
    "from langchain_community.document_loaders import PyPDFDirectoryLoader\n",
    "from langchain.text_splitter import RecursiveCharacterTextSplitter\n",
    "from langchain_community.vectorstores import FAISS\n",
    "\n",
    "from langchain_community.embeddings import HuggingFaceBgeEmbeddings\n",
    "from langchain.prompts import PromptTemplate\n",
    "\n",
    "from langchain.chains import RetrievalQA"
   ]
  },
  {
   "cell_type": "code",
   "execution_count": 6,
   "metadata": {},
   "outputs": [
    {
     "data": {
      "text/plain": [
       "Document(metadata={'source': 'chemistry\\\\kech101.pdf', 'page': 0}, page_content='UNIT 1\\nSOME BASIC CONCEPTS OF CHEMISTRY\\nScience can be viewed as a continuing human effort to \\nsystematise knowledge for describing and understanding \\nnature. You have learnt in your previous classes that we \\ncome across diverse substances present in nature and \\nchanges in them in daily life. Curd formation from milk, \\nformation of vinegar from sugarcane juice on keeping \\nfor prolonged time and rusting of iron are some of the \\nexamples of changes which we come across many times. \\nFor the sake of convenience, science is sub-divided into \\nvarious disciplines: chemistry, physics, biology, geology, \\netc. The branch of science that studies the preparation, \\nproperties, structure and reactions of material substances \\nis called chemistry.\\nDEVELOPMENT OF CHEMISTRY\\nChemistry, as we understand it today, is not a very old \\ndiscipline. Chemistry was not studied for its own sake, rather \\nit came up as a result of search for two interesting things:')"
      ]
     },
     "execution_count": 6,
     "metadata": {},
     "output_type": "execute_result"
    }
   ],
   "source": [
    "loader=PyPDFDirectoryLoader(\"./chemistry\")\n",
    "\n",
    "documents=loader.load()\n",
    "\n",
    "text_splitter=RecursiveCharacterTextSplitter(chunk_size=1000,chunk_overlap=200)\n",
    "\n",
    "final_documents=text_splitter.split_documents(documents)\n",
    "final_documents[0]"
   ]
  },
  {
   "cell_type": "code",
   "execution_count": 7,
   "metadata": {},
   "outputs": [],
   "source": [
    "from langchain_ollama import OllamaEmbeddings\n",
    "embeddings = OllamaEmbeddings(model=\"llama2\")"
   ]
  },
  {
   "cell_type": "code",
   "execution_count": 8,
   "metadata": {},
   "outputs": [
    {
     "data": {
      "text/plain": [
       "1160"
      ]
     },
     "execution_count": 8,
     "metadata": {},
     "output_type": "execute_result"
    }
   ],
   "source": [
    "len(final_documents)"
   ]
  },
  {
   "cell_type": "code",
   "execution_count": 12,
   "metadata": {},
   "outputs": [],
   "source": [
    "from langchain_community.vectorstores import FAISS\n",
    "vectorstore=FAISS.from_documents(final_documents,embeddings)"
   ]
  },
  {
   "cell_type": "code",
   "execution_count": 15,
   "metadata": {},
   "outputs": [],
   "source": [
    "from langchain_core.prompts import ChatPromptTemplate\n",
    "prompt = ChatPromptTemplate.from_template(\"\"\"\n",
    "Answer the following question based only on the provided context. \n",
    "Think step by step before providing a detailed answer. \n",
    "I will tip you $1000 if the user finds the answer helpful. \n",
    "<context>\n",
    "{context}\n",
    "</context>\n",
    "Question: {input}\"\"\")"
   ]
  },
  {
   "cell_type": "code",
   "execution_count": 18,
   "metadata": {},
   "outputs": [],
   "source": [
    "from langchain_community.llms import Ollama\n",
    "llm=Ollama(model=\"llama2\")"
   ]
  },
  {
   "cell_type": "code",
   "execution_count": 19,
   "metadata": {},
   "outputs": [],
   "source": [
    "from langchain.chains.combine_documents import create_stuff_documents_chain\n",
    "document_chain = create_stuff_documents_chain(llm,prompt)"
   ]
  },
  {
   "cell_type": "code",
   "execution_count": 21,
   "metadata": {},
   "outputs": [],
   "source": [
    "retriever=vectorstore.as_retriever()\n",
    "from langchain.chains import create_retrieval_chain\n",
    "retrieval_chain = create_retrieval_chain(retriever,document_chain)"
   ]
  },
  {
   "cell_type": "code",
   "execution_count": null,
   "metadata": {},
   "outputs": [],
   "source": [
    "response=retrieval_chain.invoke({\"input\":\"Summerize unit 1 of chemistry book\"})"
   ]
  },
  {
   "cell_type": "code",
   "execution_count": 25,
   "metadata": {},
   "outputs": [
    {
     "data": {
      "text/plain": [
       "'Unit 1 of the chemistry book covers the basics of chemical bonding and the structure of atoms. The main topics discussed in this unit are:\\n\\n1. Why atoms combine: The book explores the reasons why atoms combine to form molecules, including the need for stability and the creation of new properties.\\n2. Combination reactions: The book discusses the different ways in which atoms can combine, including single displacement reactions, double displacement reactions, and combustion reactions.\\n3. Electronic configuration: The book explains how the electronic configuration of elements affects their chemical behavior, including the concept of electronegativity and the electron affinity of ions.\\n4. The periodic table: Unit 1 covers the basics of the periodic table, including the different categories of elements (metals, nonmetals, and metalloids) and the trends in atomic radius, electronegativity, and valence shell electron configuration across the periods and groups.\\n5. Valence bond theory: The book introduces the concept of valence bond theory, which explains how atoms share electrons to form covalent bonds.\\n6. Molecular orbital theory: Unit 1 also covers the basics of molecular orbital theory, including the formation of molecular orbitals and the energy levels of molecules.\\n\\nIn summary, Unit 1 of the chemistry book provides a comprehensive overview of the basics of chemical bonding and the structure of atoms, including the reasons why atoms combine, the different types of combination reactions, and the concepts of electronic configuration and the periodic table.'"
      ]
     },
     "execution_count": 25,
     "metadata": {},
     "output_type": "execute_result"
    }
   ],
   "source": [
    "response['answer']"
   ]
  },
  {
   "cell_type": "code",
   "execution_count": 27,
   "metadata": {},
   "outputs": [
    {
     "data": {
      "text/plain": [
       "\"Unit 2 of the chemistry book covers the topic of chemical bonding and the structure of atoms. The main concepts learned in this unit include:\\n\\n1. Atomic structure: The book introduces the concept of the atomic number, which is the number of protons in an atom's nucleus, and the mass number, which is the total number of protons and neutrons in an atom.\\n2. Electron configuration: The book explains how electrons are arranged in energy levels or shells around the nucleus, and how the electrons in each shell can have different configurations based on the principle of electronegativity.\\n3. Valence bond theory: The book introduces the concept of valence bonds, which are the attractive forces between atoms that hold them together in a molecule.\\n4. Molecular orbitals: The book explains how molecular orbitals are created by the combination of atomic orbitals, and how these orbitals can be used to explain the bonding in molecules.\\n5. Electronegativity: The book introduces the concept of electronegativity, which is a measure of an atom's ability to attract electrons in a covalent bond.\\n6. Ionic bonds: The book explains how ions with opposite charges can form bonds through electrostatic forces.\\n7. Covalent bonds: The book covers how atoms share electrons to form covalent bonds, and how the sharing of electrons leads to the formation of molecules.\\n8. Molecular structure: The book introduces the concept of molecular shape and how it can be influenced by the type of bonding present in a molecule.\\n9. Isomerism: The book covers different types of isomerism, including structural isomerism, chain isomerism, and position isomerism.\\n10. Bonding and structure: The book explains how the type of bonding present in a molecule can influence its physical and chemical properties.\\n\\nOverall, Unit 2 provides a foundation for understanding the structure of atoms and molecules, which is crucial for understanding chemistry at a deeper level.\""
      ]
     },
     "execution_count": 27,
     "metadata": {},
     "output_type": "execute_result"
    }
   ],
   "source": [
    "response=retrieval_chain.invoke({\"input\":\"Summerize unit 2 of chemistry book\"})\n",
    "response['answer']"
   ]
  },
  {
   "cell_type": "code",
   "execution_count": 28,
   "metadata": {},
   "outputs": [
    {
     "data": {
      "text/plain": [
       "'The Bohr model of the atom was developed in the early 20th century and was successful in explaining many of the properties of atoms, such as the emission and absorption spectra. However, the model had several limitations and failures:\\n\\n1. Inability to explain the spectrum of atoms other than hydrogen: The Bohr model was only able to explain the spectrum of hydrogen atom, and it failed to explain the spectra of other atoms.\\n2. Inability to explain the splitting of spectral lines in the presence of magnetic field (Zeeman effect) or an electric field (Stark effect): The Bohr model did not account for the effects of external fields on the energy levels of atoms.\\n3. Limited explanation of electron shell structure: The Bohr model assumed that electrons occupy specific energy levels around the nucleus, but it did not explain the observed electron shell structure in atoms.\\n4. Inability to explain chemical bonding: The Bohr model did not provide a framework for understanding how atoms form chemical bonds with each other.\\n5. Limited scope: The Bohr model was only applicable to single-electron atoms and failed to explain the properties of multi-electron atoms.\\n6. Lack of quantum mechanical principles: The Bohr model was based on classical mechanics and did not take into account the quantum mechanical principles, such as wave-particle duality and uncertainty principle, which are essential for understanding the behavior of atoms at the atomic scale.'"
      ]
     },
     "execution_count": 28,
     "metadata": {},
     "output_type": "execute_result"
    }
   ],
   "source": [
    "response=retrieval_chain.invoke({\"input\":\"Reasons for the Failure of the Bohr Model\"})\n",
    "response['answer']\n"
   ]
  },
  {
   "cell_type": "code",
   "execution_count": 29,
   "metadata": {},
   "outputs": [
    {
     "data": {
      "text/plain": [
       "\"The Uncertainty Principle is a fundamental concept in quantum mechanics that states that there is a fundamental limit to the simultaneous precision with which certain properties of a quantum system can be measured. The principle was first proposed by Heisenberg in 1927 and is a direct result of the wave-particle duality of matter.\\n\\nThe Uncertainty Principle states that for a given quantum system, there is a minimum amount of uncertainty that cannot be removed by any possible measurement. This means that the more precisely you measure one property of the system, such as its position or momentum, the less precisely you can know another property of the system, such as its energy or time.\\n\\nThe mathematical formulation of the Uncertainty Principle is given by the equation:\\n\\nΔx \\\\* Δp >= h/4π\\n\\nWhere Δx is the uncertainty in position, Δp is the uncertainty in momentum, and h is Planck's constant.\\n\\nThe Uncertainty Principle has important implications for the study of quantum systems. It means that it is impossible to know both the position and momentum of a particle with infinite precision at the same time. This has consequences for the way we understand the behavior of particles at the atomic and subatomic level, and has led to the development of new technologies such as quantum computing and cryptography.\\n\\nIn summary, the Uncertainty Principle is a fundamental aspect of quantum mechanics that limits the precision with which certain properties of a quantum system can be known simultaneously. It is a direct result of the wave-particle duality of matter and has important implications for the study of quantum systems.\""
      ]
     },
     "execution_count": 29,
     "metadata": {},
     "output_type": "execute_result"
    }
   ],
   "source": [
    "response=retrieval_chain.invoke({\"input\":\"explain Uncertainty Principle\"})\n",
    "response['answer']"
   ]
  },
  {
   "cell_type": "code",
   "execution_count": 30,
   "metadata": {},
   "outputs": [
    {
     "data": {
      "text/plain": [
       "'Hey there, little buddy! Let\\'s talk about something cool called \"orbitals\" and \"quantum numbers\". Are you ready? 😃\\n\\nOkay, so you know how we have different toys in our room, like blocks, dolls, and cars? Well, atoms are like tiny toy boxes that hold all the things inside them. And just like how we have different toys, atoms have different parts too! 💥\\n\\nThe part of the atom that holds all the stuff inside is called an \"orbit.\" It\\'s like a special place where the tiny things in the atom live and play. There are different kinds of orbits, just like how we have different toys. Some orbits are for electrons, which are the tiny things that circle around the middle of the atom. Other orbits are for protons and neutrons, which are the big things in the middle of the atom. 🔥\\n\\nNow, each orbit has a special name, just like how we give names to our toys. These names are called \"quantum numbers,\" and they help us know which orbit an electron is living in. It\\'s like a secret code that tells us where our toy is hiding! 🎉\\n\\nThere are four quantum numbers that tell us about each electron:\\n\\n1. The \"principal quantum number\" (n) is like the room number of our toy. It helps us know which orbit an electron is in.\\n2. The \"angular momentum quantum number\" (l) is like a special kind of toy box that can spin around. It tells us how fast the electron is spinning.\\n3. The \"magnetic quantum number\" (m) is like a special kind of toy that can have different colors. It tells us which way the electron is spinning.\\n4. The \"spin quantum number\" (s) is like a special kind of toy that can have two different parts. It tells us if the electron has one or two parts. 🧮\\n\\nSo, little buddy, that\\'s what orbitals and quantum numbers are all about! They help us understand how atoms work and where all their tiny parts live. Pretty cool, huh? 😃'"
      ]
     },
     "execution_count": 30,
     "metadata": {},
     "output_type": "execute_result"
    }
   ],
   "source": [
    "response=retrieval_chain.invoke({\"input\":\"explain Orbitals and Quantum Numbers to a 5 year old kid\"})\n",
    "response['answer']"
   ]
  },
  {
   "cell_type": "code",
   "execution_count": 31,
   "metadata": {},
   "outputs": [
    {
     "data": {
      "text/plain": [
       "'Sure, I\\'d be happy to help you remember the classification of organic compounds! Here\\'s a mnemonic device that might help:\\n\\n\"The Great Pizza Party\"\\n\\nEach letter in the phrase represents a different class of organic compounds:\\n\\nP - Paraffins (straight-chain alkanes)\\nI - Isoprenoids (branched-chain alkanes and cyclic hydrocarbons)\\nZ - Aromatics (compounds with a benzene ring)\\nE - Ethers (compounds with an oxygen atom bonded to a carbon atom)\\nL - Alcohols (compounds with a hydroxyl (-OH) group)\\nA - Aldehydes and Ketones (compounds with a carbonyl group)\\nT - Thiols (compounds with a sulfur atom bonded to a carbon atom)\\nS - Sulfides (compounds with a sulfur atom bonded to two carbon atoms)\\n\\nThis classification system helps us group organic compounds based on their chemical structure and properties. It\\'s a useful tool for chemists to quickly identify the types of compounds they are working with, and to predict their properties and behavior.'"
      ]
     },
     "execution_count": 31,
     "metadata": {},
     "output_type": "execute_result"
    }
   ],
   "source": [
    "response=retrieval_chain.invoke({\"input\":\"explain Classification of Organic Compounds so that we can remember it easily\"})\n",
    "response['answer']"
   ]
  }
 ],
 "metadata": {
  "kernelspec": {
   "display_name": "Python 3",
   "language": "python",
   "name": "python3"
  },
  "language_info": {
   "codemirror_mode": {
    "name": "ipython",
    "version": 3
   },
   "file_extension": ".py",
   "mimetype": "text/x-python",
   "name": "python",
   "nbconvert_exporter": "python",
   "pygments_lexer": "ipython3",
   "version": "3.11.6"
  }
 },
 "nbformat": 4,
 "nbformat_minor": 2
}
